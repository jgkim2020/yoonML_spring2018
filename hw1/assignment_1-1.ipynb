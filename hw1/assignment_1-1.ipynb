{
 "cells": [
  {
   "cell_type": "markdown",
   "metadata": {
    "nbpresent": {
     "id": "71727736-e4d2-4576-bb51-5485c15a1efe"
    }
   },
   "source": [
    "# M2608.001300 Machine Learning <br> Assignment #1-1 Python Basics\n",
    "\n",
    "Copyright (C) Data Science and Artificial Intelligence Laboratory, Seoul National University. This material is for educational uses only. Some contents are based on the material provided by other paper/book authors and may be copyrighted by them. Written by Seil Lee, March 2018\n",
    "\n",
    "**Note**: certain details are missing or ambiguous on purpose, in order to test your knowledge on the related materials. However, if you really feel that something essential is missing and cannot proceed to the next step, then contact the teaching staff with clear description of your problem.\n",
    "\n",
    "### Submitting your work:\n",
    "<font color=red>**DO NOT clear the final outputs**</font> so that TAs can grade both your code and results.  \n",
    "Once you have done **all parts**, run the *CollectSubmission.sh* script with your **student_id** as input argument. <br>\n",
    "This will produce a zipped file called *[student_id].zip*. Please submit this file on ETL. &nbsp;&nbsp; (Usage: ./*CollectSubmission.sh* &nbsp; student_id)"
   ]
  },
  {
   "cell_type": "markdown",
   "metadata": {},
   "source": [
    "---\n",
    "## 1. Hello, world\n",
    "The starting point of all programming languages"
   ]
  },
  {
   "cell_type": "code",
   "execution_count": 2,
   "metadata": {
    "scrolled": true
   },
   "outputs": [
    {
     "name": "stdout",
     "output_type": "stream",
     "text": [
      "Hello, world!\n",
      "Hello, world!\n",
      "Hello, world!\n",
      "Hello, world!\n"
     ]
    }
   ],
   "source": [
    "print('Hello, world!')\n",
    "print(\"Hello, world!\")\n",
    "\n",
    "print('Hello,' , 'world!')\n",
    "print('Hello,' + ' ' + 'world!')"
   ]
  },
  {
   "cell_type": "markdown",
   "metadata": {},
   "source": [
    "---\n",
    "## 2. List and dictionary\n",
    "### 2.1 List\n",
    "- Creation"
   ]
  },
  {
   "cell_type": "code",
   "execution_count": 3,
   "metadata": {},
   "outputs": [
    {
     "name": "stdout",
     "output_type": "stream",
     "text": [
      "[1, 2, 3, 4, 5]\n",
      "A string is also a list\n",
      "[]\n",
      "5\n"
     ]
    }
   ],
   "source": [
    "myList_1 = [1,2,3,4,5]\n",
    "myList_2 = 'A string is also a list'\n",
    "# Empty lists\n",
    "myList_3 = []\n",
    "myList_4 = list()\n",
    "\n",
    "print(myList_1)\n",
    "print(myList_2)\n",
    "print(myList_3)\n",
    "print(len(myList_1))"
   ]
  },
  {
   "cell_type": "markdown",
   "metadata": {},
   "source": [
    "- Merging and indexing"
   ]
  },
  {
   "cell_type": "code",
   "execution_count": 4,
   "metadata": {},
   "outputs": [
    {
     "name": "stdout",
     "output_type": "stream",
     "text": [
      "[1, 2, 3, 4, 5, 6, 7, 8, 9, 10]\n",
      "1\n",
      "10\n",
      "ring\n"
     ]
    }
   ],
   "source": [
    "myList_3 = myList_1 + [6,7,8,9,10]\n",
    "myList_4 = myList_2[4:8]\n",
    "\n",
    "print(myList_3)\n",
    "print(myList_3[0])\n",
    "print(myList_3[-1])\n",
    "print(myList_4)"
   ]
  },
  {
   "cell_type": "markdown",
   "metadata": {},
   "source": [
    "### 2.2 Dictionary\n",
    "- Creation"
   ]
  },
  {
   "cell_type": "code",
   "execution_count": 5,
   "metadata": {},
   "outputs": [],
   "source": [
    "myDict_1 = {'key_a':'value_1', 'key_b':'value_2'}\n",
    "myDict_2 = {'a':1, 'b':2, 'c':3, 'd':4, 'e':5}\n",
    "# Empty Dictionaies\n",
    "myDict_3 = {}\n",
    "myDict_4 = dict()"
   ]
  },
  {
   "cell_type": "markdown",
   "metadata": {},
   "source": [
    "- Usage"
   ]
  },
  {
   "cell_type": "code",
   "execution_count": 6,
   "metadata": {},
   "outputs": [
    {
     "name": "stdout",
     "output_type": "stream",
     "text": [
      "dict_keys(['key_a', 'key_b', 'key_c'])\n",
      "dict_values([1, 2, 3, 4, 5])\n",
      "value_3\n",
      "3\n"
     ]
    }
   ],
   "source": [
    "myDict_1['key_c']='value_3'\n",
    "print(myDict_1.keys())\n",
    "print(myDict_2.values())\n",
    "print(myDict_1['key_c'])\n",
    "print(myDict_2['c'])"
   ]
  },
  {
   "cell_type": "markdown",
   "metadata": {},
   "source": [
    "***\n",
    "## 3. Loops/control flow and indentation\n",
    "### 3.1 For loop"
   ]
  },
  {
   "cell_type": "code",
   "execution_count": 7,
   "metadata": {},
   "outputs": [
    {
     "name": "stdout",
     "output_type": "stream",
     "text": [
      "The 1st for-loop:\n",
      "1\n",
      "2\n",
      "3\n",
      "4\n",
      "5\n",
      "\n",
      "The 2nd for-loop:\n",
      "1\n",
      "2\n",
      "3\n",
      "4\n",
      "5\n",
      "\n",
      "The 3rd for-loop:\n",
      "1\n",
      "4\n",
      "9\n",
      "16\n",
      "25\n"
     ]
    }
   ],
   "source": [
    "print('The 1st for-loop:')\n",
    "for eachone in myList_1:\n",
    "    print(eachone)\n",
    "\n",
    "print()\n",
    "print('The 2nd for-loop:')\n",
    "for i in range(len(myList_1)):\n",
    "    print(myList_1[i])\n",
    "\n",
    "# List comprehension\n",
    "squreOfEachone = [one*one for one in myList_1]\n",
    "\n",
    "print()\n",
    "print('The 3rd for-loop:')\n",
    "for eachone in squreOfEachone:\n",
    "    print(eachone)"
   ]
  },
  {
   "cell_type": "markdown",
   "metadata": {},
   "source": [
    "### 3.2 If statements"
   ]
  },
  {
   "cell_type": "code",
   "execution_count": 8,
   "metadata": {},
   "outputs": [
    {
     "name": "stdout",
     "output_type": "stream",
     "text": [
      "True case\n",
      "\n",
      "1:ODD\n",
      "2:EVEN\n",
      "3:ODD\n",
      "4:EVEN\n",
      "5:ODD\n",
      "6:EVEN\n",
      "7:ODD\n",
      "8:EVEN\n",
      "9:ODD\n",
      "10:EVEN\n"
     ]
    }
   ],
   "source": [
    "if (True) :\n",
    "    print('True case')\n",
    "else:\n",
    "    print('False case')\n",
    "\n",
    "print()\n",
    "for i in range(1,100):\n",
    "    print(str(i)+':',end='')\n",
    "    if i % 2 == 0:\n",
    "        print('EVEN')\n",
    "    elif i % 2 == 1:\n",
    "        print('ODD')\n",
    "    if i == 10:\n",
    "        break\n",
    "    else:\n",
    "        continue"
   ]
  },
  {
   "cell_type": "markdown",
   "metadata": {},
   "source": [
    "---\n",
    "## 4. Functions\n",
    "- Defining a function"
   ]
  },
  {
   "cell_type": "code",
   "execution_count": 9,
   "metadata": {},
   "outputs": [],
   "source": [
    "def printList(theList):\n",
    "    for one in theList:\n",
    "        print(one, end=' ')\n",
    "    print()\n",
    "\n",
    "def mySqr(n):\n",
    "    return n*n\n",
    "\n",
    "def sqrList(l):\n",
    "    return [i*i for i in l]"
   ]
  },
  {
   "cell_type": "markdown",
   "metadata": {},
   "source": [
    "- Calling a function"
   ]
  },
  {
   "cell_type": "code",
   "execution_count": 10,
   "metadata": {
    "scrolled": true
   },
   "outputs": [
    {
     "name": "stdout",
     "output_type": "stream",
     "text": [
      "1 2 3 4 5 \n",
      "1 4 9 16 25 \n",
      "1 4 9 16 25 \n"
     ]
    }
   ],
   "source": [
    "printList(myList_1)\n",
    "printList([mySqr(i) for i in myList_1])\n",
    "printList(sqrList(myList_1))"
   ]
  },
  {
   "cell_type": "markdown",
   "metadata": {},
   "source": [
    "---\n",
    "## 5. Class\n",
    "- Defining a class"
   ]
  },
  {
   "cell_type": "code",
   "execution_count": 11,
   "metadata": {},
   "outputs": [],
   "source": [
    "class Circle :\n",
    "    pi = 3.141592\n",
    "    def __init__(self, radius):\n",
    "        self.radius = radius\n",
    "    def setRadius(self,r):\n",
    "        self.radius = r\n",
    "    def getRadius(self):\n",
    "        return self.radius\n",
    "    def getArea(self):\n",
    "        area = self.radius*self.radius*Circle.pi\n",
    "        return area"
   ]
  },
  {
   "cell_type": "markdown",
   "metadata": {},
   "source": [
    "- References a object"
   ]
  },
  {
   "cell_type": "code",
   "execution_count": 12,
   "metadata": {},
   "outputs": [
    {
     "name": "stdout",
     "output_type": "stream",
     "text": [
      "10\n",
      "314.1592\n",
      "1\n",
      "3.141592\n"
     ]
    }
   ],
   "source": [
    "a = Circle(10)\n",
    "b = Circle(1)\n",
    "print(a.getRadius())\n",
    "print(a.getArea())\n",
    "print(b.getRadius())\n",
    "print(b.getArea())"
   ]
  },
  {
   "cell_type": "markdown",
   "metadata": {},
   "source": [
    "---\n",
    "## 6. Numpy array\n",
    "https://docs.scipy.org/doc/numpy/reference/generated/numpy.ndarray.html\n",
    "- Creation"
   ]
  },
  {
   "cell_type": "code",
   "execution_count": 13,
   "metadata": {
    "scrolled": false
   },
   "outputs": [
    {
     "name": "stdout",
     "output_type": "stream",
     "text": [
      "ones(5): [1. 1. 1. 1. 1.]\n",
      "zeros(5): [0. 0. 0. 0. 0.]\n",
      "zeros(5, dtype=np.int32): [0 0 0 0 0]\n",
      "arange(5): [0 1 2 3 4]\n",
      "arange(5.): [0. 1. 2. 3. 4.] Type: float64\n"
     ]
    }
   ],
   "source": [
    "import numpy as np\n",
    "print('ones(5):', np.ones(5))\n",
    "print('zeros(5):', np.zeros(5))\n",
    "print('zeros(5, dtype=np.int32):',\\\n",
    "      np.zeros(5, dtype=np.int32)) \n",
    "print('arange(5):', np.arange(5))\n",
    "print('arange(5.):', np.arange(5.),\\\n",
    "      'Type:', np.arange(5.).dtype)"
   ]
  },
  {
   "cell_type": "code",
   "execution_count": 14,
   "metadata": {
    "nbpresent": {
     "id": "d14d1165-271b-42f3-9cd5-a5b5818b6eea"
    },
    "scrolled": false
   },
   "outputs": [
    {
     "name": "stdout",
     "output_type": "stream",
     "text": [
      "linspace(0,1,5): [0.   0.25 0.5  0.75 1.  ]\n",
      "random.uniform(size=3): [0.27542895 0.10489086 0.66048499]\n",
      "myList_1: [1 2 3 4 5] Type: int64\n",
      "[[0.   0.25 0.5  0.75 1.  ]\n",
      " [0.   0.25 0.5  0.75 1.  ]]\n",
      "[0.   0.25 0.5  0.75 1.   0.   0.25 0.5  0.75 1.  ]\n"
     ]
    }
   ],
   "source": [
    "import numpy as np\n",
    "print('linspace(0,1,5):', np.linspace(0,1,5))\n",
    "print('random.uniform(size=3):',\\\n",
    "      np.random.uniform(size=3))\n",
    "print('myList_1:', np.array(myList_1),\\\n",
    "      'Type:', np.array(myList_1).dtype)\n",
    "x2 = np.tile(np.linspace(0,1,5), (2,1))\n",
    "print(x2)\n",
    "print(np.ravel(x2))"
   ]
  },
  {
   "cell_type": "markdown",
   "metadata": {},
   "source": [
    "- Matrix and indexing"
   ]
  },
  {
   "cell_type": "code",
   "execution_count": 15,
   "metadata": {},
   "outputs": [
    {
     "name": "stdout",
     "output_type": "stream",
     "text": [
      "dim. of x: 1\n",
      "dim. of xx: 2\n",
      "----------------\n",
      "xx:\n",
      "[[ 1  2  3  4  5  6  7  8  9 10]]\n",
      "Transposed xx:\n",
      "[[ 1]\n",
      " [ 2]\n",
      " [ 3]\n",
      " [ 4]\n",
      " [ 5]\n",
      " [ 6]\n",
      " [ 7]\n",
      " [ 8]\n",
      " [ 9]\n",
      " [10]]\n",
      "----------------\n",
      "Matrix multiply:\n",
      "np.dot:\n",
      "[[385]]\n",
      "np.matmul:\n",
      "[[385]]\n",
      "@ operator:\n",
      "[[385]]\n",
      "----------------\n",
      "Element-wise:\n",
      "[[  1   4   9  16  25  36  49  64  81 100]]\n",
      "----------------\n",
      "Broadcasting:\n",
      "[[  1   2   3   4   5   6   7   8   9  10]\n",
      " [  2   4   6   8  10  12  14  16  18  20]\n",
      " [  3   6   9  12  15  18  21  24  27  30]\n",
      " [  4   8  12  16  20  24  28  32  36  40]\n",
      " [  5  10  15  20  25  30  35  40  45  50]\n",
      " [  6  12  18  24  30  36  42  48  54  60]\n",
      " [  7  14  21  28  35  42  49  56  63  70]\n",
      " [  8  16  24  32  40  48  56  64  72  80]\n",
      " [  9  18  27  36  45  54  63  72  81  90]\n",
      " [ 10  20  30  40  50  60  70  80  90 100]]\n",
      "----------------\n",
      "Indexing:\n",
      "16\n",
      "[[16 20 24 28]\n",
      " [20 25 30 35]\n",
      " [24 30 36 42]\n",
      " [28 35 42 49]]\n",
      "[ 10  20  30  40  50  60  70  80  90 100]\n",
      "[ 2  4  6  8 10 12 14 16 18 20]\n"
     ]
    }
   ],
   "source": [
    "x = np.arange(1,11)\n",
    "print('dim. of x:',x.ndim)\n",
    "xx = x.reshape((1,-1))\n",
    "print('dim. of xx:', xx.ndim)\n",
    "print('----------------')\n",
    "print('xx:')\n",
    "print(xx)\n",
    "print('Transposed xx:')\n",
    "print(xx.T)\n",
    "# Dot product\n",
    "print('----------------')\n",
    "print('Matrix multiply:')\n",
    "print('np.dot:')\n",
    "print(np.dot(xx, xx.T))\n",
    "print('np.matmul:')\n",
    "print(np.matmul(xx, xx.T))\n",
    "print('@ operator:')\n",
    "print(xx@xx.T)\n",
    "# Element-wise operation\n",
    "print('----------------')\n",
    "print('Element-wise:')\n",
    "print(xx*xx)\n",
    "# Broadcasting\n",
    "print('----------------')\n",
    "print('Broadcasting:')\n",
    "print(xx*xx.T)\n",
    "# Indexing\n",
    "print('----------------')\n",
    "print('Indexing:')\n",
    "mm = xx*xx.T\n",
    "print(mm[3,3])\n",
    "print(mm[3:7,3:7])\n",
    "print(mm[:,-1])\n",
    "print(mm[1,:])"
   ]
  },
  {
   "cell_type": "markdown",
   "metadata": {},
   "source": [
    "- Merging"
   ]
  },
  {
   "cell_type": "code",
   "execution_count": 16,
   "metadata": {},
   "outputs": [
    {
     "name": "stdout",
     "output_type": "stream",
     "text": [
      "vstack:\n",
      "[[ 1  2  3  4  5  6  7  8  9 10]\n",
      " [ 1  2  3  4  5  6  7  8  9 10]]\n",
      "shape : (2, 10)\n",
      "hstack:\n",
      "[[ 1  2  3  4  5  6  7  8  9 10 11]\n",
      " [ 1  2  3  4  5  6  7  8  9 10 11]]\n",
      "[[ 1  2  3  4  5  6  7  8  9 10]\n",
      " [ 1  2  3  4  5  6  7  8  9 10]]\n",
      "[[ True  True  True  True  True  True  True  True  True  True]\n",
      " [ True  True  True  True  True  True  True  True  True  True]]\n"
     ]
    }
   ],
   "source": [
    "print('vstack:')\n",
    "yy = np.vstack((xx, xx))\n",
    "print(yy)\n",
    "print('shape :', yy.shape)\n",
    "print('hstack:')\n",
    "print(np.hstack((yy,[[11],[11]])))\n",
    "zz = np.concatenate((xx,xx), axis=0)\n",
    "print(zz)\n",
    "print(yy==zz)"
   ]
  },
  {
   "cell_type": "markdown",
   "metadata": {},
   "source": [
    "---\n",
    "## 7. File I/O\n",
    "- Read/write line by line"
   ]
  },
  {
   "cell_type": "code",
   "execution_count": 17,
   "metadata": {},
   "outputs": [
    {
     "name": "stdout",
     "output_type": "stream",
     "text": [
      "FileIO.txt :\n",
      "Test file\n",
      "Hello!\n"
     ]
    }
   ],
   "source": [
    "fileName = 'FileIO.txt'\n",
    "try:\n",
    "    with open(fileName, 'w') as outFile :\n",
    "        print('Test file',file=outFile)\n",
    "        print('Hello!',file=outFile)\n",
    "except IOError as err:\n",
    "    print('File error: ' + str(err))\n",
    "print(fileName,':')\n",
    "\n",
    "try:\n",
    "    with open(fileName, 'r') as inFile :\n",
    "        for eachLine in inFile:\n",
    "            eachLine = eachLine.strip() # remove enter\n",
    "            print(eachLine)\n",
    "except IOError as err:\n",
    "    print('File error: ' + str(err))"
   ]
  },
  {
   "cell_type": "markdown",
   "metadata": {},
   "source": [
    "### <font color=blue>[Problem #1]</font> (30 points)\n",
    "\n",
    "**Write your own code below so that the results is identical to the following example.**  \n",
    "1) Read a file : 'iris.data.txt'  \n",
    "2) Save numerical data into 'iris.data.npy'  \n",
    "3) Traslate character strings into numbers(0/1/2) then save the numbers into 'iris.label.npy'"
   ]
  },
  {
   "cell_type": "code",
   "execution_count": 19,
   "metadata": {
    "nbpresent": {
     "id": "ecd828b2-2682-4fe0-a30c-7b584aa5b050"
    },
    "scrolled": false
   },
   "outputs": [
    {
     "name": "stdout",
     "output_type": "stream",
     "text": [
      "----------------\n",
      "iris.data.txt :\n",
      "Before loading:\n",
      "[[0. 0. 0. 0.]\n",
      " [0. 0. 0. 0.]\n",
      " [0. 0. 0. 0.]\n",
      " [0. 0. 0. 0.]]\n",
      "[0.]\n",
      "After loading:\n",
      "[[5.1 3.5 1.4 0.2]\n",
      " [4.9 3.  1.4 0.2]\n",
      " [4.7 3.2 1.3 0.2]\n",
      " [4.6 3.1 1.5 0.2]\n",
      " [5.  3.6 1.4 0.2]\n",
      " [5.4 3.9 1.7 0.4]\n",
      " [4.6 3.4 1.4 0.3]\n",
      " [5.  3.4 1.5 0.2]\n",
      " [4.4 2.9 1.4 0.2]\n",
      " [4.9 3.1 1.5 0.1]]\n",
      "[[0]\n",
      " [0]\n",
      " [0]\n",
      " [0]\n",
      " [0]\n",
      " [0]\n",
      " [0]\n",
      " [0]\n",
      " [0]\n",
      " [0]]\n"
     ]
    }
   ],
   "source": [
    "print('----------------')\n",
    "fileName = 'iris.data.txt'\n",
    "print(fileName,':')\n",
    "\n",
    "\"\"\"\n",
    "↑↑↑\n",
    "You can write your code here.\n",
    "↓↓↓\n",
    "\"\"\"\n",
    "\n",
    "try:\n",
    "    with open(fileName, 'r') as inFile:\n",
    "        dataList = []\n",
    "        labelList = []\n",
    "        for eachLine in inFile:\n",
    "            eachLine = eachLine.strip()\n",
    "            fields = eachLine.split(\",\")\n",
    "            dataList.append(fields[0:4])\n",
    "            if fields[4] == 'Iris-setosa':\n",
    "                labelList.append([0])\n",
    "            elif fields[4] == 'Iris-versicolor':\n",
    "                labelList.append([1])\n",
    "            elif fields[4] == 'Iris-virginica':\n",
    "                labelList.append([2])\n",
    "except IOError as err:\n",
    "    print('File error: ' + str(err))\n",
    "\n",
    "dataNdArray = np.array(dataList, dtype='float64')\n",
    "labelNdArray = np.array(labelList)\n",
    "np.save('iris.data.npy', dataNdArray)\n",
    "np.save('iris.label.npy', labelNdArray)\n",
    "\n",
    "dataNdArray = np.zeros((4,4))\n",
    "labelNdArray = np.zeros((1,))\n",
    "print('Before loading:')\n",
    "print(dataNdArray)\n",
    "print(labelNdArray)\n",
    "dataNdArray = np.load('iris.data.npy')\n",
    "print('After loading:')\n",
    "print(dataNdArray[0:10])\n",
    "labelNdArray = np.load('iris.label.npy')\n",
    "print(labelNdArray[0:10])"
   ]
  },
  {
   "cell_type": "code",
   "execution_count": null,
   "metadata": {},
   "outputs": [],
   "source": []
  }
 ],
 "metadata": {
  "kernelspec": {
   "display_name": "Python [conda env:ML_CLASS]",
   "language": "python",
   "name": "conda-env-ML_CLASS-py"
  },
  "language_info": {
   "codemirror_mode": {
    "name": "ipython",
    "version": 3
   },
   "file_extension": ".py",
   "mimetype": "text/x-python",
   "name": "python",
   "nbconvert_exporter": "python",
   "pygments_lexer": "ipython3",
   "version": "3.6.4"
  },
  "nbpresent": {
   "slides": {
    "1479b4bf-4ef9-426a-9a05-ecdc45cf22bc": {
     "id": "1479b4bf-4ef9-426a-9a05-ecdc45cf22bc",
     "prev": "501ef19c-7f8c-44db-8fac-67c58faeb4dd",
     "regions": {
      "3a29ad86-99ff-4f78-9ab4-a531614c9581": {
       "attrs": {
        "height": 0.8,
        "width": 0.8,
        "x": 0.1,
        "y": 0.1
       },
       "content": {
        "cell": "7f87c87e-ab9b-41d0-bd32-4e0273a0c314",
        "part": "whole"
       },
       "id": "3a29ad86-99ff-4f78-9ab4-a531614c9581"
      }
     }
    },
    "501ef19c-7f8c-44db-8fac-67c58faeb4dd": {
     "id": "501ef19c-7f8c-44db-8fac-67c58faeb4dd",
     "prev": "a6155bec-c92e-4387-854a-5013ed9ff6b9",
     "regions": {
      "2c8761d2-9bbe-4324-b309-2edd4dde6b81": {
       "attrs": {
        "height": 0.8,
        "width": 0.8,
        "x": 0.1,
        "y": 0.1
       },
       "content": {
        "cell": "ecd828b2-2682-4fe0-a30c-7b584aa5b050",
        "part": "whole"
       },
       "id": "2c8761d2-9bbe-4324-b309-2edd4dde6b81"
      }
     }
    },
    "a6155bec-c92e-4387-854a-5013ed9ff6b9": {
     "id": "a6155bec-c92e-4387-854a-5013ed9ff6b9",
     "prev": "ca2c2763-b132-4191-a77e-692405ea0992",
     "regions": {
      "ea605974-fdb0-4867-a706-5c2571a08688": {
       "attrs": {
        "height": 0.8,
        "width": 0.8,
        "x": 0.1,
        "y": 0.1
       },
       "content": {
        "cell": "d14d1165-271b-42f3-9cd5-a5b5818b6eea",
        "part": "whole"
       },
       "id": "ea605974-fdb0-4867-a706-5c2571a08688"
      }
     }
    },
    "ca2c2763-b132-4191-a77e-692405ea0992": {
     "id": "ca2c2763-b132-4191-a77e-692405ea0992",
     "prev": "d803a273-9c2e-4dd8-a5f6-bacfb94338f7",
     "regions": {
      "97fd0425-1c67-4f70-9ae8-6086d551d4c8": {
       "attrs": {
        "height": 0.8,
        "width": 0.8,
        "x": 0.1,
        "y": 0.1
       },
       "content": {
        "cell": "4bc809cc-83fb-4ed4-99f3-c82b52b81c44",
        "part": "whole"
       },
       "id": "97fd0425-1c67-4f70-9ae8-6086d551d4c8"
      }
     }
    },
    "d803a273-9c2e-4dd8-a5f6-bacfb94338f7": {
     "id": "d803a273-9c2e-4dd8-a5f6-bacfb94338f7",
     "prev": null,
     "regions": {
      "f55b2900-0353-4284-a8e4-a971ee9e87d8": {
       "attrs": {
        "height": 0.8,
        "width": 0.8,
        "x": 0.1,
        "y": 0.1
       },
       "content": {
        "cell": "71727736-e4d2-4576-bb51-5485c15a1efe",
        "part": "whole"
       },
       "id": "f55b2900-0353-4284-a8e4-a971ee9e87d8"
      }
     }
    }
   },
   "themes": {}
  }
 },
 "nbformat": 4,
 "nbformat_minor": 2
}
